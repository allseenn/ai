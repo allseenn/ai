{
 "cells": [
  {
   "cell_type": "code",
   "execution_count": 2,
   "id": "16bbb4a1-2a2f-4237-a547-c7e7111a45cc",
   "metadata": {},
   "outputs": [],
   "source": [
    "import pandas as pd\n",
    "import numpy as np\n",
    "import seaborn as sns\n",
    "import warnings\n",
    "warnings.simplefilter(action='ignore', category=FutureWarning)\n",
    "from sklearn.model_selection import train_test_split\n",
    "from sklearn.preprocessing import normalize\n",
    "def to_one_hot(Y):\n",
    "    n_col = np.amax(Y) + 1\n",
    "    binarized = np.zeros((len(Y), n_col))\n",
    "    for i in range(len(Y)):\n",
    "        binarized[i, Y[i]] = 1.\n",
    "    return binarized\n",
    "\n",
    "def from_one_hot(Y):\n",
    "    arr = np.zeros((len(Y), 1))\n",
    "    for i in range(len(Y)):\n",
    "        l = layer2[i]\n",
    "        for j in range(len(l)):\n",
    "            if(l[j] == 1):\n",
    "                arr[i] = j+1\n",
    "    return arr\n",
    "\n",
    "def sigmoid(x):\n",
    "    return 1/(1+np.exp(-x))\n",
    "    \n",
    "def sigmoid_deriv(x):\n",
    "    return sigmoid(x)*(1 - sigmoid(x))\n",
    "\n",
    "def normalize(X, axis=-1, order=2):\n",
    "    l2 = np.atleast_1d(np.linalg.norm(X, order, axis))\n",
    "    l2[l2 == 0] = 1\n",
    "    return X / np.expand_dims(l2, axis)"
   ]
  },
  {
   "cell_type": "code",
   "execution_count": 4,
   "id": "92710885-4a16-4afb-82aa-8e19ae17ae7e",
   "metadata": {},
   "outputs": [
    {
     "name": "stdout",
     "output_type": "stream",
     "text": [
      "94.61115501076458\n"
     ]
    }
   ],
   "source": [
    "train_data = pd.read_csv(\"iris_train.csv\")\n",
    "test_data = pd.read_csv(\"iris_test.csv\")\n",
    "train_data['species'].replace(['Iris-setosa', 'Iris-virginica', 'Iris-versicolor'], [0, 1, 2], inplace=True)\n",
    "columns_train = ['sepal_length', 'sepal_width', 'petal_length', 'petal_width']\n",
    "X_train = pd.DataFrame(train_data, columns=columns_train)\n",
    "X_train.fillna(X_train.mean(), inplace=True)\n",
    "X_train = normalize(X_train.values)\n",
    "\n",
    "columns_train_output = ['species']\n",
    "y_train = pd.DataFrame(train_data, columns=columns_train_output)\n",
    "y_train = y_train.values.flatten()\n",
    "y_train = to_one_hot(y_train)\n",
    "\n",
    "columns_test = ['sepal_length', 'sepal_width', 'petal_length', 'petal_width']\n",
    "X_test = pd.DataFrame(test_data, columns=columns_test)\n",
    "X_test = normalize(X_test.values)\n",
    "\n",
    "w0 = 2*np.random.random((4, 5)) - 1 # для входного слоя - 4 входа, 3 выхода\n",
    "w1 = 2*np.random.random((5, 3)) - 1 # для внутреннего слоя - 5 входов, 3 выхода\n",
    "# скорость обучения (learning rate)\n",
    "n = 0.01\n",
    "errors = []\n",
    "\n",
    "for i in range(100000):\n",
    "    # прямое распространение(feed forward)\n",
    "    layer0 = X_train\n",
    "    layer1 = sigmoid(np.dot(layer0, w0))\n",
    "    layer2 = sigmoid(np.dot(layer1, w1))\n",
    "    # обратное распространение(back propagation) с использованием градиентного спуска\n",
    "    layer2_error = y_train - layer2\n",
    "    layer2_delta = layer2_error * sigmoid_deriv(layer2)\n",
    "    layer1_error = layer2_delta.dot(w1.T)\n",
    "    layer1_delta = layer1_error * sigmoid_deriv(layer1)\n",
    "    w1 += layer1.T.dot(layer2_delta) * n\n",
    "    w0 += layer0.T.dot(layer1_delta) * n\n",
    "    error = np.mean(np.abs(layer2_error))\n",
    "    errors.append(error)\n",
    "    accuracy = (1 - error) * 100\n",
    "\n",
    "print(accuracy)"
   ]
  },
  {
   "cell_type": "code",
   "execution_count": null,
   "id": "0782ddf9-6880-4187-95ea-e5f982e01d3b",
   "metadata": {},
   "outputs": [],
   "source": [
    "layer0_test = X_test\n",
    "layer1_test = sigmoid(np.dot(layer0_test, w0))\n",
    "layer2_test = sigmoid(np.dot(layer1_test, w1))\n",
    "predicted_labels = np.argmax(layer2_test, axis=1)\n",
    "predicted_species = np.array(['Iris-setosa', 'Iris-virginica', 'Iris-versicolor'])[predicted_labels]\n",
    "submission_df = pd.DataFrame(test_data, columns=columns_test)\n",
    "submission_df['species'] = predicted_species\n",
    "submission_df.to_csv('submission.csv', index=False)"
   ]
  }
 ],
 "metadata": {
  "kernelspec": {
   "display_name": "Python 3 (ipykernel)",
   "language": "python",
   "name": "python3"
  },
  "language_info": {
   "codemirror_mode": {
    "name": "ipython",
    "version": 3
   },
   "file_extension": ".py",
   "mimetype": "text/x-python",
   "name": "python",
   "nbconvert_exporter": "python",
   "pygments_lexer": "ipython3",
   "version": "3.9.18"
  }
 },
 "nbformat": 4,
 "nbformat_minor": 5
}
